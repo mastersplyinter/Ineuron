{
 "cells": [
  {
   "cell_type": "code",
   "execution_count": 3,
   "metadata": {},
   "outputs": [
    {
     "name": "stdout",
     "output_type": "stream",
     "text": [
      "2002,2009,2016,2023,2037,2044,2051,2058,2072,2079,2086,2093,2107,2114,2121,2128,2142,2149,2156,2163,2177,2184,2191,2198,2212,2219,2226,2233,2247,2254,2261,2268,2282,2289,2296,2303,2317,2324,2331,2338,2352,2359,2366,2373,2387,2394,2401,2408,2422,2429,2436,2443,2457,2464,2471,2478,2492,2499,2506,2513,2527,2534,2541,2548,2562,2569,2576,2583,2597,2604,2611,2618,2632,2639,2646,2653,2667,2674,2681,2688,2702,2709,2716,2723,2737,2744,2751,2758,2772,2779,2786,2793,2807,2814,2821,2828,2842,2849,2856,2863,2877,2884,2891,2898,2912,2919,2926,2933,2947,2954,2961,2968,2982,2989,2996,3003,3017,3024,3031,3038,3052,3059,3066,3073,3087,3094,3101,3108,3122,3129,3136,3143,3157,3164,3171,3178,3192,3199\n"
     ]
    }
   ],
   "source": [
    "#Printing numbers between 2000 and 3200 which are divisible by 7 but not by 5 in a straight line seperated by comma\n",
    "l=list(range(2000,3201))\n",
    "fin_list=[]\n",
    "\n",
    "for i in l:\n",
    "    if i%5!=0 and i%7==0:\n",
    "        fin_list.append(i)\n",
    "\n",
    "print(*fin_list, sep=\",\")\n"
   ]
  },
  {
   "cell_type": "code",
   "execution_count": 4,
   "metadata": {},
   "outputs": [
    {
     "name": "stdout",
     "output_type": "stream",
     "text": [
      "Enter your First Name and Last Name\n",
      "Aniket Nair\n"
     ]
    },
    {
     "data": {
      "text/plain": [
       "'riaN tekinA'"
      ]
     },
     "execution_count": 4,
     "metadata": {},
     "output_type": "execute_result"
    }
   ],
   "source": [
    "#Take first name and last name and print it in reverse with space between the two names\n",
    "print(\"Enter your First Name and Last Name\")\n",
    "a= input()\n",
    "a\n",
    "b= a[::-1]\n",
    "b"
   ]
  },
  {
   "cell_type": "code",
   "execution_count": 5,
   "metadata": {},
   "outputs": [
    {
     "name": "stdout",
     "output_type": "stream",
     "text": [
      "Volume of sphere is  905.142857142857 cubic cm"
     ]
    }
   ],
   "source": [
    "# Calculate volume of sphere with diameter 12 cm\n",
    "d= 12\n",
    "r=d/2\n",
    "V=(4/3)*(22/7)*r*r*r\n",
    "print(\"Volume of sphere is \",V,end=\" cubic cm\")"
   ]
  },
  {
   "cell_type": "code",
   "execution_count": 6,
   "metadata": {},
   "outputs": [
    {
     "name": "stdout",
     "output_type": "stream",
     "text": [
      "Enter values seperated by comma1,2,3,4,5\n",
      "['1', '2', '3', '4', '5']\n"
     ]
    }
   ],
   "source": [
    "#Take comma seperated values and display list\n",
    "l= input(\"Enter values seperated by comma\")\n",
    "l1=l.split(\",\")\n",
    "print(l1)"
   ]
  },
  {
   "cell_type": "code",
   "execution_count": 7,
   "metadata": {},
   "outputs": [
    {
     "name": "stdout",
     "output_type": "stream",
     "text": [
      "*\n",
      "**\n",
      "***\n",
      "****\n",
      "*****\n",
      "****\n",
      "***\n",
      "**\n",
      "*\n"
     ]
    }
   ],
   "source": [
    "#Star Sequence\n",
    "l=[1,2,3,4,5,4,3,2,1]\n",
    "\n",
    "for i in l:\n",
    "    print(\"*\"*i)"
   ]
  },
  {
   "cell_type": "code",
   "execution_count": 8,
   "metadata": {},
   "outputs": [
    {
     "name": "stdout",
     "output_type": "stream",
     "text": [
      "Enter a wordTesting\n"
     ]
    },
    {
     "data": {
      "text/plain": [
       "'gnitseT'"
      ]
     },
     "execution_count": 8,
     "metadata": {},
     "output_type": "execute_result"
    }
   ],
   "source": [
    "#Word Reversal\n",
    "a=input(\"Enter a word\")\n",
    "b=a[::-1]\n",
    "b"
   ]
  },
  {
   "cell_type": "code",
   "execution_count": 9,
   "metadata": {},
   "outputs": [
    {
     "name": "stdout",
     "output_type": "stream",
     "text": [
      "WE, THE PEOPLE OF INDIA\n",
      "     having solemnly resolved to constitute India into a SOVEREIGN\n",
      "\t  SOCIALIST, SECULAR, DEMOCRATIC REPUBLIC\n",
      "\t   and to secure to all its citizens\n"
     ]
    }
   ],
   "source": [
    "#Allignment Assignment\n",
    "a=[\"WE, THE PEOPLE OF INDIA\",\"having solemnly resolved to constitute India into a SOVEREIGN\",\"SOCIALIST, SECULAR, DEMOCRATIC REPUBLIC\", \"and to secure to all its citizens\"]\n",
    "print(a[0])\n",
    "print(\"    \",a[1])\n",
    "print(\"\\t \",a[2])\n",
    "print(\"\\t  \",a[3])"
   ]
  },
  {
   "cell_type": "code",
   "execution_count": null,
   "metadata": {},
   "outputs": [],
   "source": []
  }
 ],
 "metadata": {
  "kernelspec": {
   "display_name": "Python 3",
   "language": "python",
   "name": "python3"
  },
  "language_info": {
   "codemirror_mode": {
    "name": "ipython",
    "version": 3
   },
   "file_extension": ".py",
   "mimetype": "text/x-python",
   "name": "python",
   "nbconvert_exporter": "python",
   "pygments_lexer": "ipython3",
   "version": "3.7.4"
  }
 },
 "nbformat": 4,
 "nbformat_minor": 2
}
