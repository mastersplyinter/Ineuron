{
 "cells": [
  {
   "cell_type": "code",
   "execution_count": 1,
   "metadata": {},
   "outputs": [],
   "source": [
    "def longestword(a):\n",
    "    b = len(a[0])\n",
    "    c = a[0]\n",
    "    for i in a:\n",
    "        if len(i)>b:\n",
    "            c = i\n",
    "            b = len(i)\n",
    "    \n",
    "    print(\"Longest word is \",c)\n",
    "        "
   ]
  },
  {
   "cell_type": "code",
   "execution_count": 2,
   "metadata": {},
   "outputs": [],
   "source": [
    "a = [\"aniket\",\"thisisiatestphrase\",\"priyanka\",\"brtusu\"]"
   ]
  },
  {
   "cell_type": "code",
   "execution_count": 3,
   "metadata": {},
   "outputs": [
    {
     "name": "stdout",
     "output_type": "stream",
     "text": [
      "Longest word is  thisisiatestphrase\n"
     ]
    }
   ],
   "source": [
    "longestword(a)"
   ]
  },
  {
   "cell_type": "code",
   "execution_count": 5,
   "metadata": {},
   "outputs": [],
   "source": [
    "list1 = [\"priyanka\",\"aniket\",\"nair\",\"prabhavati\"]\n",
    "\n",
    "def filter_long_words(length):\n",
    "    for i in list1:\n",
    "        if len(i)>length:\n",
    "            print(i)"
   ]
  },
  {
   "cell_type": "code",
   "execution_count": 6,
   "metadata": {},
   "outputs": [
    {
     "name": "stdout",
     "output_type": "stream",
     "text": [
      "priyanka\n",
      "prabhavati\n"
     ]
    }
   ],
   "source": [
    "filter_long_words(6)"
   ]
  },
  {
   "cell_type": "code",
   "execution_count": 7,
   "metadata": {},
   "outputs": [],
   "source": [
    "list2 = []\n",
    "def converter(list1):\n",
    "    for i in list1:\n",
    "        list2.append(len(i))\n",
    "    print(list2)"
   ]
  },
  {
   "cell_type": "code",
   "execution_count": 8,
   "metadata": {},
   "outputs": [
    {
     "name": "stdout",
     "output_type": "stream",
     "text": [
      "[6, 4, 6]\n"
     ]
    }
   ],
   "source": [
    "a = converter([\"aniket\",\"nair\",\"brutus\"])"
   ]
  },
  {
   "cell_type": "code",
   "execution_count": 9,
   "metadata": {},
   "outputs": [],
   "source": [
    "def vowel_check():\n",
    "    inp = input(\"enter character\")\n",
    "    if inp == \"a\" or inp == \"e\" or inp == \"i\" or inp == \"o\" or inp == \"u\":\n",
    "        print(\"Entered character is vowel\")\n",
    "    else:\n",
    "        print(\"Entered character is not vowel\")"
   ]
  },
  {
   "cell_type": "code",
   "execution_count": 10,
   "metadata": {},
   "outputs": [
    {
     "name": "stdout",
     "output_type": "stream",
     "text": [
      "enter characterr\n",
      "Entered character is not vowel\n"
     ]
    }
   ],
   "source": [
    "vowel_check()"
   ]
  },
  {
   "cell_type": "code",
   "execution_count": 11,
   "metadata": {},
   "outputs": [
    {
     "name": "stdout",
     "output_type": "stream",
     "text": [
      "['A', 'C', 'A', 'D', 'G', 'I', 'L', 'D']\n",
      "['x', 'xx', 'xxx', 'xxxx', 'y', 'yy', 'yyy', 'yyyy', 'z', 'zz', 'zzz', 'zzzz']\n",
      "['x', 'y', 'z', 'xx', 'yy', 'zz', 'xxx', 'yyy', 'zzz', 'xxxx', 'yyyy', 'zzzz']\n",
      "[[2], [3], [4], [3], [4], [5], [4], [5], [6]]\n",
      "[[2, 3, 4, 5], [3, 4, 5, 6], [4, 5, 6, 7], [5, 6, 7, 8]]\n",
      "[(1, 1), (2, 1), (3, 1), (1, 2), (2, 2), (3, 2), (1, 3), (2, 3), (3, 3)]\n"
     ]
    }
   ],
   "source": [
    "a = [i for i in 'ACADGILD']\n",
    "print(a)\n",
    "\n",
    "b = [i*j for j in [\"x\",\"y\",\"z\"] for i in range(1,5)]\n",
    "print(b)\n",
    "\n",
    "c = [i*j for j in range(1,5) for i in ['x','y','z']]\n",
    "print(c)\n",
    "\n",
    "d = [[i+j] for j in [0,1,2] for i in range(2,5)]\n",
    "print(d)\n",
    "\n",
    "e =  [[i+j for j in [0,1,2,3]] for i in range(2,6)]\n",
    "print(e)\n",
    "\n",
    "f = [(i,j) for j in [1,2,3] for i in [1,2,3]]\n",
    "print(f)"
   ]
  },
  {
   "cell_type": "code",
   "execution_count": 3,
   "metadata": {},
   "outputs": [
    {
     "data": {
      "text/plain": [
       "15"
      ]
     },
     "execution_count": 3,
     "metadata": {},
     "output_type": "execute_result"
    }
   ],
   "source": [
    "def myreduce(fun, lis):\n",
    "    x = lis[0]\n",
    "    \n",
    "    for i in range(1, len(lis)):\n",
    "        x = fun(x, lis[i])\n",
    "    \n",
    "    return x\n",
    "\n",
    "def sumf(a,b):\n",
    "    return a+b\n",
    "\n",
    "a = [1,2,3,4,5]\n",
    "myreduce(sumf, a)"
   ]
  },
  {
   "cell_type": "code",
   "execution_count": 5,
   "metadata": {},
   "outputs": [
    {
     "data": {
      "text/plain": [
       "[2, 4, 6]"
      ]
     },
     "execution_count": 5,
     "metadata": {},
     "output_type": "execute_result"
    }
   ],
   "source": [
    "def myfilter(fun, alist):\n",
    "    x = []\n",
    "    y = []\n",
    "    \n",
    "    for i in alist:\n",
    "        x.append(fun(i))\n",
    "    \n",
    "    for i in range(0, len(x)):\n",
    "        \n",
    "        if x[i] == False:\n",
    "            continue\n",
    "        \n",
    "        else:\n",
    "            y.append(x[i])\n",
    "    \n",
    "    return y\n",
    "\n",
    "def evenno(a):\n",
    "    if a%2 ==0:\n",
    "        return a\n",
    "    else:\n",
    "        return False\n",
    "    \n",
    "myfilter(evenno,[1,2,3,4,5,6])"
   ]
  },
  {
   "cell_type": "code",
   "execution_count": 6,
   "metadata": {},
   "outputs": [],
   "source": [
    "class area_input:\n",
    "    def __init__(self):\n",
    "        self.a = int(input(\"enter side 1\"))\n",
    "        self.b = int(input(\"enter side 2\"))\n",
    "        self.c = int(input(\"enter side 3\"))\n",
    "\n",
    "class area_cal(area_input):\n",
    "    def __init__(self,*args):\n",
    "        super(area_cal,self).__init__(*args)\n",
    "        \n",
    "    \n",
    "    def __str__(self):\n",
    "        self.s = (self.a+self.b+self.c)/2\n",
    "        self.area = (self.s*(self.s-self.a)*(self.s-self.b)*(self.s-self.c))**0.5\n",
    "        return \"Area is %f\" %(self.area)"
   ]
  },
  {
   "cell_type": "code",
   "execution_count": 7,
   "metadata": {},
   "outputs": [
    {
     "name": "stdout",
     "output_type": "stream",
     "text": [
      "enter side 11\n",
      "enter side 22\n",
      "enter side 33\n"
     ]
    }
   ],
   "source": [
    "ba1=area_cal()"
   ]
  },
  {
   "cell_type": "code",
   "execution_count": 8,
   "metadata": {},
   "outputs": [
    {
     "name": "stdout",
     "output_type": "stream",
     "text": [
      "Area is 0.000000\n"
     ]
    }
   ],
   "source": [
    "print(ba1)"
   ]
  },
  {
   "cell_type": "code",
   "execution_count": null,
   "metadata": {},
   "outputs": [],
   "source": []
  }
 ],
 "metadata": {
  "kernelspec": {
   "display_name": "Python 3",
   "language": "python",
   "name": "python3"
  },
  "language_info": {
   "codemirror_mode": {
    "name": "ipython",
    "version": 3
   },
   "file_extension": ".py",
   "mimetype": "text/x-python",
   "name": "python",
   "nbconvert_exporter": "python",
   "pygments_lexer": "ipython3",
   "version": "3.7.7"
  }
 },
 "nbformat": 4,
 "nbformat_minor": 2
}
